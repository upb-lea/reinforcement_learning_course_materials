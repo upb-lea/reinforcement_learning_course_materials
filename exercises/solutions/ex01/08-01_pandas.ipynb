{
 "cells": [
  {
   "cell_type": "markdown",
   "metadata": {
    "slideshow": {
     "slide_type": "slide"
    }
   },
   "source": [
    "# Introduction to Pandas"
   ]
  },
  {
   "cell_type": "markdown",
   "metadata": {
    "slideshow": {
     "slide_type": "slide"
    }
   },
   "source": [
    "## Introduction\n",
    "* Pandas is a newer package built on top of NumPy\n",
    "* Pandas provides an efficient implementation of a DataFrame\n",
    "* DataFrames are essentially multidimensional arrays with attached row and column labels, and often with heterogeneous types and/or missing data. \n",
    "* Pandas implements a number of powerful data operations familiar to users of both database frameworks and spreadsheet programs\n",
    "* documentation: http://pandas.pydata.org/pandas-docs/stable/"
   ]
  },
  {
   "cell_type": "code",
   "execution_count": 3,
   "metadata": {
    "slideshow": {
     "slide_type": "subslide"
    }
   },
   "outputs": [],
   "source": [
    "import numpy as np\n",
    "import pandas as pd\n",
    "import os\n",
    "import matplotlib.pyplot as plt\n",
    "plt.style.use(\"default\")\n"
   ]
  },
  {
   "cell_type": "code",
   "execution_count": 6,
   "metadata": {
    "slideshow": {
     "slide_type": "skip"
    }
   },
   "outputs": [],
   "source": [
    "data = pd.DataFrame(np.random.randn(50, 5))\n",
    "# Make sure the directory exists\n",
    "os.makedirs('data', exist_ok=True)\n",
    "data.to_csv('data/test_csv1.csv', sep=';', index_label=['a', 'b', 'c', 'd', 'e', 'f'], decimal=',')\n",
    "data.to_excel('data/test_excel1.xlsx')"
   ]
  },
  {
   "cell_type": "markdown",
   "metadata": {
    "slideshow": {
     "slide_type": "slide"
    }
   },
   "source": [
    "## Read csv-data\n",
    "\n",
    "http://pandas.pydata.org/pandas-docs/stable/io.html#"
   ]
  },
  {
   "cell_type": "code",
   "execution_count": 21,
   "metadata": {
    "slideshow": {
     "slide_type": "-"
    }
   },
   "outputs": [
    {
     "data": {
      "text/html": [
       "<div>\n",
       "<style scoped>\n",
       "    .dataframe tbody tr th:only-of-type {\n",
       "        vertical-align: middle;\n",
       "    }\n",
       "\n",
       "    .dataframe tbody tr th {\n",
       "        vertical-align: top;\n",
       "    }\n",
       "\n",
       "    .dataframe thead th {\n",
       "        text-align: right;\n",
       "    }\n",
       "</style>\n",
       "<table border=\"1\" class=\"dataframe\">\n",
       "  <thead>\n",
       "    <tr style=\"text-align: right;\">\n",
       "      <th></th>\n",
       "      <th></th>\n",
       "      <th></th>\n",
       "      <th></th>\n",
       "      <th></th>\n",
       "      <th>a;b;c;d;e;f;0;1;2;3;4</th>\n",
       "    </tr>\n",
       "  </thead>\n",
       "  <tbody>\n",
       "    <tr>\n",
       "      <th>0;-0</th>\n",
       "      <th>4246870298859013;0</th>\n",
       "      <th>5522841912772913;-2</th>\n",
       "      <th>0658928525318294;-0</th>\n",
       "      <th>788852447945441;2</th>\n",
       "      <td>1817491144594205</td>\n",
       "    </tr>\n",
       "    <tr>\n",
       "      <th>1;0</th>\n",
       "      <th>04288126537219558;-0</th>\n",
       "      <th>7745748070599539;0</th>\n",
       "      <th>12781116369777581;-0</th>\n",
       "      <th>36667016542912645;0</th>\n",
       "      <td>7957944155261677</td>\n",
       "    </tr>\n",
       "    <tr>\n",
       "      <th>2;0</th>\n",
       "      <th>41465181383767163;0</th>\n",
       "      <th>03693794884465033;3</th>\n",
       "      <th>0639141396822165;-1</th>\n",
       "      <th>1472868710994484;-0</th>\n",
       "      <td>7318755035784512</td>\n",
       "    </tr>\n",
       "    <tr>\n",
       "      <th>3;-2</th>\n",
       "      <th>8496780177553274;-0</th>\n",
       "      <th>1415295903889285;-1</th>\n",
       "      <th>2528915220213925;-0</th>\n",
       "      <th>2119260073744855;-0</th>\n",
       "      <td>10468443969813844</td>\n",
       "    </tr>\n",
       "    <tr>\n",
       "      <th>4;1</th>\n",
       "      <th>2374439077675505;0</th>\n",
       "      <th>3938875662347796;-0</th>\n",
       "      <th>20760734823858776;-0</th>\n",
       "      <th>7425926227129656;0</th>\n",
       "      <td>16619117325650068</td>\n",
       "    </tr>\n",
       "  </tbody>\n",
       "</table>\n",
       "</div>"
      ],
      "text/plain": [
       "                                                                                        a;b;c;d;e;f;0;1;2;3;4\n",
       "0;-0 4246870298859013;0   5522841912772913;-2 0658928525318294;-0  788852447945441;2         1817491144594205\n",
       "1;0  04288126537219558;-0 7745748070599539;0  12781116369777581;-0 36667016542912645;0       7957944155261677\n",
       "2;0  41465181383767163;0  03693794884465033;3 0639141396822165;-1  1472868710994484;-0       7318755035784512\n",
       "3;-2 8496780177553274;-0  1415295903889285;-1 2528915220213925;-0  2119260073744855;-0      10468443969813844\n",
       "4;1  2374439077675505;0   3938875662347796;-0 20760734823858776;-0 7425926227129656;0       16619117325650068"
      ]
     },
     "execution_count": 21,
     "metadata": {},
     "output_type": "execute_result"
    }
   ],
   "source": [
    "data_csv = pd.read_csv('data/test_csv.csv')\n",
    "data_csv.head()"
   ]
  },
  {
   "cell_type": "code",
   "execution_count": 22,
   "metadata": {
    "slideshow": {
     "slide_type": "subslide"
    }
   },
   "outputs": [
    {
     "data": {
      "text/html": [
       "<div>\n",
       "<style scoped>\n",
       "    .dataframe tbody tr th:only-of-type {\n",
       "        vertical-align: middle;\n",
       "    }\n",
       "\n",
       "    .dataframe tbody tr th {\n",
       "        vertical-align: top;\n",
       "    }\n",
       "\n",
       "    .dataframe thead th {\n",
       "        text-align: right;\n",
       "    }\n",
       "</style>\n",
       "<table border=\"1\" class=\"dataframe\">\n",
       "  <thead>\n",
       "    <tr style=\"text-align: right;\">\n",
       "      <th></th>\n",
       "      <th>a</th>\n",
       "      <th>b</th>\n",
       "      <th>c</th>\n",
       "      <th>d</th>\n",
       "      <th>e</th>\n",
       "    </tr>\n",
       "  </thead>\n",
       "  <tbody>\n",
       "    <tr>\n",
       "      <th>0</th>\n",
       "      <td>0</td>\n",
       "      <td>-0.424687</td>\n",
       "      <td>0.552284</td>\n",
       "      <td>-2.065893</td>\n",
       "      <td>-0.788852</td>\n",
       "    </tr>\n",
       "    <tr>\n",
       "      <th>1</th>\n",
       "      <td>1</td>\n",
       "      <td>0.042881</td>\n",
       "      <td>-0.774575</td>\n",
       "      <td>0.127811</td>\n",
       "      <td>-0.366670</td>\n",
       "    </tr>\n",
       "    <tr>\n",
       "      <th>2</th>\n",
       "      <td>2</td>\n",
       "      <td>0.414652</td>\n",
       "      <td>0.036938</td>\n",
       "      <td>3.063914</td>\n",
       "      <td>-1.147287</td>\n",
       "    </tr>\n",
       "    <tr>\n",
       "      <th>3</th>\n",
       "      <td>3</td>\n",
       "      <td>-2.849678</td>\n",
       "      <td>-0.141530</td>\n",
       "      <td>-1.252892</td>\n",
       "      <td>-0.211926</td>\n",
       "    </tr>\n",
       "    <tr>\n",
       "      <th>4</th>\n",
       "      <td>4</td>\n",
       "      <td>1.237444</td>\n",
       "      <td>0.393888</td>\n",
       "      <td>-0.207607</td>\n",
       "      <td>-0.742593</td>\n",
       "    </tr>\n",
       "  </tbody>\n",
       "</table>\n",
       "</div>"
      ],
      "text/plain": [
       "   a         b         c         d         e\n",
       "0  0 -0.424687  0.552284 -2.065893 -0.788852\n",
       "1  1  0.042881 -0.774575  0.127811 -0.366670\n",
       "2  2  0.414652  0.036938  3.063914 -1.147287\n",
       "3  3 -2.849678 -0.141530 -1.252892 -0.211926\n",
       "4  4  1.237444  0.393888 -0.207607 -0.742593"
      ]
     },
     "execution_count": 22,
     "metadata": {},
     "output_type": "execute_result"
    }
   ],
   "source": [
    "# sometimes you have to give some more details to read the csv correctly\n",
    "\n",
    "data_csv = pd.read_csv('data/test_csv.csv', sep=';', decimal=',', usecols=(0, 1, 2, 3, 4))\n",
    "data_csv.head()"
   ]
  },
  {
   "cell_type": "markdown",
   "metadata": {
    "slideshow": {
     "slide_type": "slide"
    }
   },
   "source": [
    "## Basic Operations on Data Frames"
   ]
  },
  {
   "cell_type": "code",
   "execution_count": 23,
   "metadata": {},
   "outputs": [
    {
     "data": {
      "text/plain": [
       "(50, 5)"
      ]
     },
     "execution_count": 23,
     "metadata": {},
     "output_type": "execute_result"
    }
   ],
   "source": [
    "# shape of the data frame\n",
    "\n",
    "data_csv.shape"
   ]
  },
  {
   "cell_type": "code",
   "execution_count": 24,
   "metadata": {
    "slideshow": {
     "slide_type": "subslide"
    }
   },
   "outputs": [
    {
     "data": {
      "text/html": [
       "<div>\n",
       "<style scoped>\n",
       "    .dataframe tbody tr th:only-of-type {\n",
       "        vertical-align: middle;\n",
       "    }\n",
       "\n",
       "    .dataframe tbody tr th {\n",
       "        vertical-align: top;\n",
       "    }\n",
       "\n",
       "    .dataframe thead th {\n",
       "        text-align: right;\n",
       "    }\n",
       "</style>\n",
       "<table border=\"1\" class=\"dataframe\">\n",
       "  <thead>\n",
       "    <tr style=\"text-align: right;\">\n",
       "      <th></th>\n",
       "      <th>a</th>\n",
       "      <th>b</th>\n",
       "      <th>c</th>\n",
       "      <th>d</th>\n",
       "      <th>e</th>\n",
       "    </tr>\n",
       "  </thead>\n",
       "  <tbody>\n",
       "    <tr>\n",
       "      <th>0</th>\n",
       "      <td>0</td>\n",
       "      <td>-0.424687</td>\n",
       "      <td>0.552284</td>\n",
       "      <td>-2.065893</td>\n",
       "      <td>-0.788852</td>\n",
       "    </tr>\n",
       "    <tr>\n",
       "      <th>2</th>\n",
       "      <td>2</td>\n",
       "      <td>0.414652</td>\n",
       "      <td>0.036938</td>\n",
       "      <td>3.063914</td>\n",
       "      <td>-1.147287</td>\n",
       "    </tr>\n",
       "    <tr>\n",
       "      <th>4</th>\n",
       "      <td>4</td>\n",
       "      <td>1.237444</td>\n",
       "      <td>0.393888</td>\n",
       "      <td>-0.207607</td>\n",
       "      <td>-0.742593</td>\n",
       "    </tr>\n",
       "    <tr>\n",
       "      <th>6</th>\n",
       "      <td>6</td>\n",
       "      <td>1.493295</td>\n",
       "      <td>0.319811</td>\n",
       "      <td>1.947756</td>\n",
       "      <td>-1.795701</td>\n",
       "    </tr>\n",
       "    <tr>\n",
       "      <th>13</th>\n",
       "      <td>13</td>\n",
       "      <td>1.683426</td>\n",
       "      <td>0.512369</td>\n",
       "      <td>-0.067183</td>\n",
       "      <td>0.615619</td>\n",
       "    </tr>\n",
       "  </tbody>\n",
       "</table>\n",
       "</div>"
      ],
      "text/plain": [
       "     a         b         c         d         e\n",
       "0    0 -0.424687  0.552284 -2.065893 -0.788852\n",
       "2    2  0.414652  0.036938  3.063914 -1.147287\n",
       "4    4  1.237444  0.393888 -0.207607 -0.742593\n",
       "6    6  1.493295  0.319811  1.947756 -1.795701\n",
       "13  13  1.683426  0.512369 -0.067183  0.615619"
      ]
     },
     "execution_count": 24,
     "metadata": {},
     "output_type": "execute_result"
    }
   ],
   "source": [
    "# filter rows of the data frame\n",
    "\n",
    "data_csv = data_csv.query('a < 0.8 | c > 0')\n",
    "data_csv.head()"
   ]
  },
  {
   "cell_type": "code",
   "execution_count": 25,
   "metadata": {
    "slideshow": {
     "slide_type": "subslide"
    }
   },
   "outputs": [
    {
     "name": "stdout",
     "output_type": "stream",
     "text": [
      "(18, 3)\n"
     ]
    },
    {
     "data": {
      "text/html": [
       "<div>\n",
       "<style scoped>\n",
       "    .dataframe tbody tr th:only-of-type {\n",
       "        vertical-align: middle;\n",
       "    }\n",
       "\n",
       "    .dataframe tbody tr th {\n",
       "        vertical-align: top;\n",
       "    }\n",
       "\n",
       "    .dataframe thead th {\n",
       "        text-align: right;\n",
       "    }\n",
       "</style>\n",
       "<table border=\"1\" class=\"dataframe\">\n",
       "  <thead>\n",
       "    <tr style=\"text-align: right;\">\n",
       "      <th></th>\n",
       "      <th>a</th>\n",
       "      <th>b</th>\n",
       "      <th>c</th>\n",
       "    </tr>\n",
       "  </thead>\n",
       "  <tbody>\n",
       "    <tr>\n",
       "      <th>0</th>\n",
       "      <td>0</td>\n",
       "      <td>-0.424687</td>\n",
       "      <td>0.552284</td>\n",
       "    </tr>\n",
       "    <tr>\n",
       "      <th>2</th>\n",
       "      <td>2</td>\n",
       "      <td>0.414652</td>\n",
       "      <td>0.036938</td>\n",
       "    </tr>\n",
       "    <tr>\n",
       "      <th>4</th>\n",
       "      <td>4</td>\n",
       "      <td>1.237444</td>\n",
       "      <td>0.393888</td>\n",
       "    </tr>\n",
       "    <tr>\n",
       "      <th>6</th>\n",
       "      <td>6</td>\n",
       "      <td>1.493295</td>\n",
       "      <td>0.319811</td>\n",
       "    </tr>\n",
       "    <tr>\n",
       "      <th>13</th>\n",
       "      <td>13</td>\n",
       "      <td>1.683426</td>\n",
       "      <td>0.512369</td>\n",
       "    </tr>\n",
       "  </tbody>\n",
       "</table>\n",
       "</div>"
      ],
      "text/plain": [
       "     a         b         c\n",
       "0    0 -0.424687  0.552284\n",
       "2    2  0.414652  0.036938\n",
       "4    4  1.237444  0.393888\n",
       "6    6  1.493295  0.319811\n",
       "13  13  1.683426  0.512369"
      ]
     },
     "execution_count": 25,
     "metadata": {},
     "output_type": "execute_result"
    }
   ],
   "source": [
    "# filter columns of the data frame\n",
    "\n",
    "data_csv = data_csv.filter(items=['a', 'b', 'c'])\n",
    "print(data_csv.shape)\n",
    "data_csv.head()"
   ]
  },
  {
   "cell_type": "code",
   "execution_count": 26,
   "metadata": {
    "slideshow": {
     "slide_type": "subslide"
    }
   },
   "outputs": [
    {
     "data": {
      "text/html": [
       "<div>\n",
       "<style scoped>\n",
       "    .dataframe tbody tr th:only-of-type {\n",
       "        vertical-align: middle;\n",
       "    }\n",
       "\n",
       "    .dataframe tbody tr th {\n",
       "        vertical-align: top;\n",
       "    }\n",
       "\n",
       "    .dataframe thead th {\n",
       "        text-align: right;\n",
       "    }\n",
       "</style>\n",
       "<table border=\"1\" class=\"dataframe\">\n",
       "  <thead>\n",
       "    <tr style=\"text-align: right;\">\n",
       "      <th></th>\n",
       "      <th>a</th>\n",
       "      <th>b</th>\n",
       "      <th>c</th>\n",
       "    </tr>\n",
       "  </thead>\n",
       "  <tbody>\n",
       "    <tr>\n",
       "      <th>2</th>\n",
       "      <td>2</td>\n",
       "      <td>0.414652</td>\n",
       "      <td>0.036938</td>\n",
       "    </tr>\n",
       "    <tr>\n",
       "      <th>39</th>\n",
       "      <td>39</td>\n",
       "      <td>-0.302028</td>\n",
       "      <td>0.091859</td>\n",
       "    </tr>\n",
       "    <tr>\n",
       "      <th>27</th>\n",
       "      <td>27</td>\n",
       "      <td>0.942635</td>\n",
       "      <td>0.123114</td>\n",
       "    </tr>\n",
       "    <tr>\n",
       "      <th>31</th>\n",
       "      <td>31</td>\n",
       "      <td>0.300276</td>\n",
       "      <td>0.128002</td>\n",
       "    </tr>\n",
       "    <tr>\n",
       "      <th>21</th>\n",
       "      <td>21</td>\n",
       "      <td>0.371740</td>\n",
       "      <td>0.128198</td>\n",
       "    </tr>\n",
       "  </tbody>\n",
       "</table>\n",
       "</div>"
      ],
      "text/plain": [
       "     a         b         c\n",
       "2    2  0.414652  0.036938\n",
       "39  39 -0.302028  0.091859\n",
       "27  27  0.942635  0.123114\n",
       "31  31  0.300276  0.128002\n",
       "21  21  0.371740  0.128198"
      ]
     },
     "execution_count": 26,
     "metadata": {},
     "output_type": "execute_result"
    }
   ],
   "source": [
    "# sort the data frame\n",
    "\n",
    "data_csv = data_csv.sort_values(by=['c'])\n",
    "data_csv.head()"
   ]
  },
  {
   "cell_type": "code",
   "execution_count": 27,
   "metadata": {
    "slideshow": {
     "slide_type": "subslide"
    }
   },
   "outputs": [
    {
     "data": {
      "text/html": [
       "<div>\n",
       "<style scoped>\n",
       "    .dataframe tbody tr th:only-of-type {\n",
       "        vertical-align: middle;\n",
       "    }\n",
       "\n",
       "    .dataframe tbody tr th {\n",
       "        vertical-align: top;\n",
       "    }\n",
       "\n",
       "    .dataframe thead th {\n",
       "        text-align: right;\n",
       "    }\n",
       "</style>\n",
       "<table border=\"1\" class=\"dataframe\">\n",
       "  <thead>\n",
       "    <tr style=\"text-align: right;\">\n",
       "      <th></th>\n",
       "      <th>b</th>\n",
       "      <th>c</th>\n",
       "    </tr>\n",
       "    <tr>\n",
       "      <th>a</th>\n",
       "      <th></th>\n",
       "      <th></th>\n",
       "    </tr>\n",
       "  </thead>\n",
       "  <tbody>\n",
       "    <tr>\n",
       "      <th>0</th>\n",
       "      <td>-0.424687</td>\n",
       "      <td>0.552284</td>\n",
       "    </tr>\n",
       "    <tr>\n",
       "      <th>2</th>\n",
       "      <td>0.414652</td>\n",
       "      <td>0.036938</td>\n",
       "    </tr>\n",
       "    <tr>\n",
       "      <th>4</th>\n",
       "      <td>1.237444</td>\n",
       "      <td>0.393888</td>\n",
       "    </tr>\n",
       "    <tr>\n",
       "      <th>6</th>\n",
       "      <td>1.493295</td>\n",
       "      <td>0.319811</td>\n",
       "    </tr>\n",
       "    <tr>\n",
       "      <th>13</th>\n",
       "      <td>1.683426</td>\n",
       "      <td>0.512369</td>\n",
       "    </tr>\n",
       "  </tbody>\n",
       "</table>\n",
       "</div>"
      ],
      "text/plain": [
       "           b         c\n",
       "a                     \n",
       "0  -0.424687  0.552284\n",
       "2   0.414652  0.036938\n",
       "4   1.237444  0.393888\n",
       "6   1.493295  0.319811\n",
       "13  1.683426  0.512369"
      ]
     },
     "execution_count": 27,
     "metadata": {},
     "output_type": "execute_result"
    }
   ],
   "source": [
    "# set index\n",
    "\n",
    "data_csv = data_csv.set_index(keys=['a'])\n",
    "data_csv = data_csv.sort_values(by=['a'])\n",
    "data_csv.head()"
   ]
  },
  {
   "cell_type": "markdown",
   "metadata": {
    "slideshow": {
     "slide_type": "subslide"
    }
   },
   "source": [
    "### Indexing"
   ]
  },
  {
   "cell_type": "code",
   "execution_count": null,
   "metadata": {},
   "outputs": [],
   "source": []
  },
  {
   "cell_type": "code",
   "execution_count": 28,
   "metadata": {
    "slideshow": {
     "slide_type": "subslide"
    }
   },
   "outputs": [],
   "source": [
    "# save a new csv\n",
    "\n",
    "data_csv.to_csv('data/test_neue_csv.csv', sep=';', decimal=',')"
   ]
  },
  {
   "cell_type": "markdown",
   "metadata": {
    "slideshow": {
     "slide_type": "slide"
    }
   },
   "source": [
    "## Statistical Operations"
   ]
  },
  {
   "cell_type": "code",
   "execution_count": 29,
   "metadata": {},
   "outputs": [
    {
     "data": {
      "text/plain": [
       "b    -0.763346\n",
       "c    10.802686\n",
       "dtype: float64"
      ]
     },
     "execution_count": 29,
     "metadata": {},
     "output_type": "execute_result"
    }
   ],
   "source": [
    "data_csv.sum()"
   ]
  },
  {
   "cell_type": "code",
   "execution_count": 30,
   "metadata": {},
   "outputs": [
    {
     "data": {
      "text/plain": [
       "b   -0.042408\n",
       "c    0.600149\n",
       "dtype: float64"
      ]
     },
     "execution_count": 30,
     "metadata": {},
     "output_type": "execute_result"
    }
   ],
   "source": [
    "data_csv.mean()"
   ]
  },
  {
   "cell_type": "code",
   "execution_count": 31,
   "metadata": {},
   "outputs": [
    {
     "data": {
      "text/plain": [
       "b    0.234007\n",
       "c    0.444116\n",
       "dtype: float64"
      ]
     },
     "execution_count": 31,
     "metadata": {},
     "output_type": "execute_result"
    }
   ],
   "source": [
    "data_csv.median()"
   ]
  },
  {
   "cell_type": "code",
   "execution_count": 32,
   "metadata": {
    "slideshow": {
     "slide_type": "subslide"
    }
   },
   "outputs": [
    {
     "data": {
      "text/plain": [
       "b    1.105430\n",
       "c    0.675003\n",
       "dtype: float64"
      ]
     },
     "execution_count": 32,
     "metadata": {},
     "output_type": "execute_result"
    }
   ],
   "source": [
    "data_csv.std()"
   ]
  },
  {
   "cell_type": "code",
   "execution_count": 33,
   "metadata": {},
   "outputs": [
    {
     "data": {
      "text/plain": [
       "count    18.000000\n",
       "mean     -0.042408\n",
       "std       1.105430\n",
       "min      -2.240860\n",
       "25%      -0.995039\n",
       "50%       0.234007\n",
       "75%       0.745726\n",
       "max       1.683426\n",
       "Name: b, dtype: float64"
      ]
     },
     "execution_count": 33,
     "metadata": {},
     "output_type": "execute_result"
    }
   ],
   "source": [
    "data_csv['b'].describe()"
   ]
  },
  {
   "cell_type": "markdown",
   "metadata": {
    "slideshow": {
     "slide_type": "slide"
    }
   },
   "source": [
    "## Plotting functions"
   ]
  },
  {
   "cell_type": "code",
   "execution_count": 34,
   "metadata": {},
   "outputs": [
    {
     "data": {
      "text/plain": [
       "<AxesSubplot: xlabel='a'>"
      ]
     },
     "execution_count": 34,
     "metadata": {},
     "output_type": "execute_result"
    },
    {
     "data": {
      "image/png": "[encoded data removed]",
      "text/plain": [
       "<Figure size 640x480 with 1 Axes>"
      ]
     },
     "metadata": {},
     "output_type": "display_data"
    }
   ],
   "source": [
    "data_csv.plot()"
   ]
  },
  {
   "cell_type": "code",
   "execution_count": 35,
   "metadata": {
    "slideshow": {
     "slide_type": "subslide"
    }
   },
   "outputs": [
    {
     "data": {
      "image/png": "[encoded data removed]",
      "text/plain": [
       "<Figure size 640x480 with 1 Axes>"
      ]
     },
     "metadata": {},
     "output_type": "display_data"
    }
   ],
   "source": [
    "plt.figure()\n",
    "data_csv['b'].plot()\n",
    "plt.show()"
   ]
  },
  {
   "cell_type": "markdown",
   "metadata": {
    "slideshow": {
     "slide_type": "slide"
    }
   },
   "source": [
    "## Read excel-data"
   ]
  },
  {
   "cell_type": "code",
   "execution_count": 36,
   "metadata": {},
   "outputs": [
    {
     "data": {
      "text/html": [
       "<div>\n",
       "<style scoped>\n",
       "    .dataframe tbody tr th:only-of-type {\n",
       "        vertical-align: middle;\n",
       "    }\n",
       "\n",
       "    .dataframe tbody tr th {\n",
       "        vertical-align: top;\n",
       "    }\n",
       "\n",
       "    .dataframe thead th {\n",
       "        text-align: right;\n",
       "    }\n",
       "</style>\n",
       "<table border=\"1\" class=\"dataframe\">\n",
       "  <thead>\n",
       "    <tr style=\"text-align: right;\">\n",
       "      <th></th>\n",
       "      <th>Unnamed: 0</th>\n",
       "      <th>0</th>\n",
       "      <th>1</th>\n",
       "      <th>2</th>\n",
       "      <th>3</th>\n",
       "      <th>4</th>\n",
       "    </tr>\n",
       "  </thead>\n",
       "  <tbody>\n",
       "    <tr>\n",
       "      <th>0</th>\n",
       "      <td>0</td>\n",
       "      <td>-0.424687</td>\n",
       "      <td>0.552284</td>\n",
       "      <td>-2.065893</td>\n",
       "      <td>-0.788852</td>\n",
       "      <td>2.181749</td>\n",
       "    </tr>\n",
       "    <tr>\n",
       "      <th>1</th>\n",
       "      <td>1</td>\n",
       "      <td>0.042881</td>\n",
       "      <td>-0.774575</td>\n",
       "      <td>0.127811</td>\n",
       "      <td>-0.366670</td>\n",
       "      <td>0.795794</td>\n",
       "    </tr>\n",
       "    <tr>\n",
       "      <th>2</th>\n",
       "      <td>2</td>\n",
       "      <td>0.414652</td>\n",
       "      <td>0.036938</td>\n",
       "      <td>3.063914</td>\n",
       "      <td>-1.147287</td>\n",
       "      <td>-0.731876</td>\n",
       "    </tr>\n",
       "    <tr>\n",
       "      <th>3</th>\n",
       "      <td>3</td>\n",
       "      <td>-2.849678</td>\n",
       "      <td>-0.141530</td>\n",
       "      <td>-1.252892</td>\n",
       "      <td>-0.211926</td>\n",
       "      <td>-0.104684</td>\n",
       "    </tr>\n",
       "    <tr>\n",
       "      <th>4</th>\n",
       "      <td>4</td>\n",
       "      <td>1.237444</td>\n",
       "      <td>0.393888</td>\n",
       "      <td>-0.207607</td>\n",
       "      <td>-0.742593</td>\n",
       "      <td>0.166191</td>\n",
       "    </tr>\n",
       "  </tbody>\n",
       "</table>\n",
       "</div>"
      ],
      "text/plain": [
       "   Unnamed: 0         0         1         2         3         4\n",
       "0           0 -0.424687  0.552284 -2.065893 -0.788852  2.181749\n",
       "1           1  0.042881 -0.774575  0.127811 -0.366670  0.795794\n",
       "2           2  0.414652  0.036938  3.063914 -1.147287 -0.731876\n",
       "3           3 -2.849678 -0.141530 -1.252892 -0.211926 -0.104684\n",
       "4           4  1.237444  0.393888 -0.207607 -0.742593  0.166191"
      ]
     },
     "execution_count": 36,
     "metadata": {},
     "output_type": "execute_result"
    }
   ],
   "source": [
    "data_excel = pd.read_excel('data/test_excel.xlsx')\n",
    "data_excel.head()"
   ]
  }
 ],
 "metadata": {
  "kernelspec": {
   "display_name": "RL25",
   "language": "python",
   "name": "python3"
  },
  "language_info": {
   "codemirror_mode": {
    "name": "ipython",
    "version": 3
   },
   "file_extension": ".py",
   "mimetype": "text/x-python",
   "name": "python",
   "nbconvert_exporter": "python",
   "pygments_lexer": "ipython3",
   "version": "3.12.9"
  }
 },
 "nbformat": 4,
 "nbformat_minor": 2
}
